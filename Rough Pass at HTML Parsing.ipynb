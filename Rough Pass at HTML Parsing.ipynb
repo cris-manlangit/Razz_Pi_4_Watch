{
 "cells": [
  {
   "cell_type": "markdown",
   "id": "34855716",
   "metadata": {},
   "source": [
    "# Pages to Check\n",
    "\n",
    "- \n",
    "- https://www.canakit.com/raspberry-pi-4-starter-kit.html\n",
    "- https://www.canakit.com/raspberry-pi-zero-2-w.html"
   ]
  },
  {
   "cell_type": "markdown",
   "id": "a9f67961",
   "metadata": {},
   "source": [
    "from lxml import html\n",
    "import requests"
   ]
  },
  {
   "cell_type": "code",
   "execution_count": 131,
   "id": "3a4ee708",
   "metadata": {},
   "outputs": [],
   "source": [
    "#page = requests.get('https://www.canakit.com/raspberry-pi-4-8gb.html')\n",
    "\n",
    "from urllib.request import urlopen\n",
    "from bs4 import BeautifulSoup\n",
    "\n",
    "url = \"https://www.canakit.com/raspberry-pi-4-8gb.html\"\n",
    "#url = \"https://www.canakit.com/raspberry-pi-4.html\"\n",
    "html = urlopen(url).read()\n",
    "soup = BeautifulSoup(html, features=\"html.parser\")\n",
    "from urllib.request import urlopen\n"
   ]
  },
  {
   "cell_type": "markdown",
   "id": "712cde18",
   "metadata": {},
   "source": [
    "## Beautiful Soup\n",
    "Reference: https://www.crummy.com/software/BeautifulSoup/bs4/doc/#quick-start"
   ]
  },
  {
   "cell_type": "code",
   "execution_count": 132,
   "id": "699de1db",
   "metadata": {},
   "outputs": [],
   "source": [
    "cut1 = soup.find(id=\"MainContent_PricingDiv\")"
   ]
  },
  {
   "cell_type": "markdown",
   "id": "93af0090",
   "metadata": {},
   "source": [
    "References:\n",
    "- https://www.geeksforgeeks.org/how-to-use-xpath-with-beautifulsoup/\n",
    "- https://stackoverflow.com/questions/48089010/extracting-from-bs4-and-storing-as-list-elements-in-python"
   ]
  },
  {
   "cell_type": "markdown",
   "id": "f855dc8b",
   "metadata": {},
   "source": [
    "cut1.find_all(\"tr\")"
   ]
  },
  {
   "cell_type": "code",
   "execution_count": 133,
   "id": "787e86e7",
   "metadata": {},
   "outputs": [
    {
     "data": {
      "text/plain": [
       "['Pi 4 8GB Board Only',\n",
       " 'Pi 4 8GB Starter Kit - 32GB',\n",
       " 'Pi 4 8GB Complete Starter Kit - 32GB',\n",
       " 'Pi 4 8GB Extreme Kit - 128GB']"
      ]
     },
     "execution_count": 133,
     "metadata": {},
     "output_type": "execute_result"
    }
   ],
   "source": [
    "[s.get_text() for s in cut1.find_all(\"b\")]"
   ]
  },
  {
   "cell_type": "markdown",
   "id": "c412492f",
   "metadata": {},
   "source": [
    "[s.find_all('span')[-1].get_text() for s in cut1.find_all(\"tr\")]"
   ]
  },
  {
   "cell_type": "code",
   "execution_count": 134,
   "id": "e94b1bed",
   "metadata": {},
   "outputs": [],
   "source": [
    "import numpy as np"
   ]
  },
  {
   "cell_type": "code",
   "execution_count": 135,
   "id": "97084473",
   "metadata": {},
   "outputs": [
    {
     "data": {
      "text/plain": [
       "['PI4-8GB',\n",
       " 'PI4-8GB-STR32F-C4-BLK-1',\n",
       " 'PI4-8GB-STR32F-C4-WHT-K-1',\n",
       " 'PI4-8GB-EXT128EW-C8-BLK-1']"
      ]
     },
     "execution_count": 135,
     "metadata": {},
     "output_type": "execute_result"
    }
   ],
   "source": [
    "[s.find_all('span')[0].get_text() for s in cut1.find_all(\"tr\")]"
   ]
  },
  {
   "cell_type": "code",
   "execution_count": 136,
   "id": "3be786dd",
   "metadata": {},
   "outputs": [
    {
     "data": {
      "text/plain": [
       "['$75.00', '$139.95', '$179.95', '$184.95']"
      ]
     },
     "execution_count": 136,
     "metadata": {},
     "output_type": "execute_result"
    }
   ],
   "source": [
    "[s.find_all('span')[1].get_text() for s in cut1.find_all(\"tr\")]"
   ]
  },
  {
   "cell_type": "code",
   "execution_count": 137,
   "id": "a0a3d1d3",
   "metadata": {},
   "outputs": [
    {
     "data": {
      "text/plain": [
       "['Pre-Orders Sold Out',\n",
       " 'Pre-Orders Sold Out',\n",
       " 'Pre-Orders Sold Out',\n",
       " '$184.95']"
      ]
     },
     "execution_count": 137,
     "metadata": {},
     "output_type": "execute_result"
    }
   ],
   "source": [
    "[s.find_all('span')[-1].get_text() for s in cut1.find_all(\"tr\")]"
   ]
  },
  {
   "cell_type": "code",
   "execution_count": 138,
   "id": "5281928c",
   "metadata": {},
   "outputs": [
    {
     "data": {
      "text/plain": [
       "array([ True,  True,  True,  True])"
      ]
     },
     "execution_count": 138,
     "metadata": {},
     "output_type": "execute_result"
    }
   ],
   "source": [
    "np.char.equal(\n",
    "[s.find_all('span')[-1].get_text() for s in cut1.find_all(\"tr\")]\n",
    ", ['Pre-Orders Sold Out', 'Pre-Orders Sold Out', 'Pre-Orders Sold Out', '$184.95']\n",
    ")"
   ]
  },
  {
   "cell_type": "code",
   "execution_count": 139,
   "id": "ef7db404",
   "metadata": {},
   "outputs": [
    {
     "data": {
      "text/plain": [
       "[<span style=\"color: rgb(129,129,129); font-size: 11px\">PI4-8GB</span>,\n",
       " <span class=\"priceListPrice\">$75.00</span>,\n",
       " <span style=\"font-size: 12px\">Pre-Orders Sold Out</span>,\n",
       " <span style=\"color: rgb(129,129,129); font-size: 11px\">PI4-8GB-STR32F-C4-BLK-1</span>,\n",
       " <span class=\"priceListPrice\">$139.95</span>,\n",
       " <span style=\"font-size: 12px\">Pre-Orders Sold Out</span>,\n",
       " <span style=\"color: rgb(129,129,129); font-size: 11px\">PI4-8GB-STR32F-C4-WHT-K-1</span>,\n",
       " <span class=\"priceListPrice\">$179.95</span>,\n",
       " <span style=\"font-size: 12px\">Pre-Orders Sold Out</span>,\n",
       " <span style=\"color: rgb(129,129,129); font-size: 11px\">PI4-8GB-EXT128EW-C8-BLK-1</span>,\n",
       " <span class=\"priceListPrice\">$184.95</span>]"
      ]
     },
     "execution_count": 139,
     "metadata": {},
     "output_type": "execute_result"
    }
   ],
   "source": [
    "cut1.find_all(\"span\")"
   ]
  }
 ],
 "metadata": {
  "kernelspec": {
   "display_name": "Python 3 (ipykernel)",
   "language": "python",
   "name": "python3"
  },
  "language_info": {
   "codemirror_mode": {
    "name": "ipython",
    "version": 3
   },
   "file_extension": ".py",
   "mimetype": "text/x-python",
   "name": "python",
   "nbconvert_exporter": "python",
   "pygments_lexer": "ipython3",
   "version": "3.9.1"
  }
 },
 "nbformat": 4,
 "nbformat_minor": 5
}
