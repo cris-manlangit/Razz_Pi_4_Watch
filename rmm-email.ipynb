{
 "cells": [
  {
   "cell_type": "code",
   "execution_count": 477,
   "id": "4f0d4312",
   "metadata": {},
   "outputs": [],
   "source": [
    "# curl -A 'random' https://old.reddit.com/r/mechmarket/new/.json > r-mm-test.json \n",
    "# must be ran before script can run\n",
    "\n",
    "import json\n",
    "import html\n",
    "import datetime\n",
    "import pandas as pd\n",
    "import re\n",
    "\n",
    "f = open('r-mm-test.json')\n",
    "\n",
    "d = json.load(f)"
   ]
  },
  {
   "cell_type": "code",
   "execution_count": 478,
   "id": "f918f1f3",
   "metadata": {},
   "outputs": [
    {
     "data": {
      "text/plain": [
       "['x79wwx', 'x75pui', 'x728v9', 'x71n6q']"
      ]
     },
     "execution_count": 478,
     "metadata": {},
     "output_type": "execute_result"
    }
   ],
   "source": [
    "id_import = pd.read_csv('rmm_id.csv')\n",
    "id_import['id'].tolist()"
   ]
  },
  {
   "cell_type": "markdown",
   "id": "bab27cf9",
   "metadata": {},
   "source": [
    "## Data frame logic"
   ]
  },
  {
   "cell_type": "code",
   "execution_count": 479,
   "id": "3aeb3f73",
   "metadata": {},
   "outputs": [],
   "source": [
    "#pd.read_json('r-mm-test.json')\n",
    "\n",
    "df = pd.DataFrame.from_dict(d['data']['children'])\n",
    "\n",
    "#df.apply(lambda row: df['data'][row.name]['author'], axis = 1)\n",
    "#df['data'][0]"
   ]
  },
  {
   "cell_type": "code",
   "execution_count": 480,
   "id": "5fc63d90",
   "metadata": {},
   "outputs": [],
   "source": [
    "df2 = pd.concat(\n",
    "    [\n",
    "        df\n",
    "        , df.apply(lambda row: bool(re.match('.*\\[US.*\\]\\s*\\[H\\].*[Gg][Mm][Kk].*\\[W\\].*', df['data'][row.name]['title'])), axis = 1)\n",
    "        , df.apply(lambda row: df['data'][row.name]['title'], axis = 1)\n",
    "        , df.apply(lambda row: df['data'][row.name]['url'], axis = 1)\n",
    "        , df.apply(lambda row: df['data'][row.name]['author'], axis = 1)\n",
    "        , df.apply(lambda row: df['data'][row.name]['id'], axis = 1)\n",
    "        , df.apply(lambda row: datetime.datetime.fromtimestamp(int(df['data'][row.name]['created_utc'])).strftime('%m/%d %a -- %I:%M:%S %p'), axis = 1)\n",
    "        , df.apply(lambda row: df['data'][row.name]['selftext_html'], axis = 1)\n",
    "    ]\n",
    "    , axis=1, join='inner'\n",
    ")"
   ]
  },
  {
   "cell_type": "code",
   "execution_count": 481,
   "id": "1c628887",
   "metadata": {},
   "outputs": [],
   "source": [
    "df2.columns = ['kind', 'data', 'hasPattern', 'title', 'url', 'user', 'id', 'ts', 'body']\n",
    "# df2"
   ]
  },
  {
   "cell_type": "code",
   "execution_count": 482,
   "id": "0c3802f2",
   "metadata": {},
   "outputs": [],
   "source": [
    "# df3 = df2.loc[df2['hasPattern'] == True]\n",
    "\n",
    "# check for GMK pattern and is not in the ID list\n",
    "df3 = df2.loc[~df2['id'].isin(id_import['id'].tolist()) & df2['hasPattern'] == True]\n",
    "#id_import['id'].tolist()"
   ]
  },
  {
   "cell_type": "code",
   "execution_count": 486,
   "id": "2a0ed59f",
   "metadata": {},
   "outputs": [
    {
     "data": {
      "text/plain": [
       "0"
      ]
     },
     "execution_count": 486,
     "metadata": {},
     "output_type": "execute_result"
    }
   ],
   "source": [
    "#df3.shape[0]"
   ]
  },
  {
   "cell_type": "code",
   "execution_count": 487,
   "id": "6bb6c2fb",
   "metadata": {},
   "outputs": [],
   "source": [
    "# exit if there are no new changes\n",
    "if df3.shape[0] == 0:\n",
    "    exit()\n"
   ]
  },
  {
   "cell_type": "code",
   "execution_count": 468,
   "id": "0855f897",
   "metadata": {},
   "outputs": [],
   "source": [
    "# df3.apply(lambda row: re.sub(\"[Gg][Mm][Kk]\", '<mark style=\"background-color: orange;\">GMK</mark>', html.unescape(row['body'])), axis = 1)[7]"
   ]
  },
  {
   "cell_type": "code",
   "execution_count": 469,
   "id": "04c4b6f8",
   "metadata": {},
   "outputs": [
    {
     "ename": "ValueError",
     "evalue": "Length mismatch: Expected axis has 18 elements, new values have 10 elements",
     "output_type": "error",
     "traceback": [
      "\u001b[0;31m---------------------------------------------------------------------------\u001b[0m",
      "\u001b[0;31mValueError\u001b[0m                                Traceback (most recent call last)",
      "Input \u001b[0;32mIn [469]\u001b[0m, in \u001b[0;36m<cell line: 31>\u001b[0;34m()\u001b[0m\n\u001b[1;32m      1\u001b[0m df4 \u001b[38;5;241m=\u001b[39m pd\u001b[38;5;241m.\u001b[39mconcat(\n\u001b[1;32m      2\u001b[0m     [\n\u001b[1;32m      3\u001b[0m         df3\n\u001b[0;32m   (...)\u001b[0m\n\u001b[1;32m     28\u001b[0m     , axis\u001b[38;5;241m=\u001b[39m\u001b[38;5;241m1\u001b[39m, join\u001b[38;5;241m=\u001b[39m\u001b[38;5;124m'\u001b[39m\u001b[38;5;124minner\u001b[39m\u001b[38;5;124m'\u001b[39m\n\u001b[1;32m     29\u001b[0m )\n\u001b[0;32m---> 31\u001b[0m \u001b[43mdf4\u001b[49m\u001b[38;5;241;43m.\u001b[39;49m\u001b[43mcolumns\u001b[49m \u001b[38;5;241m=\u001b[39m [\u001b[38;5;124m'\u001b[39m\u001b[38;5;124mkind\u001b[39m\u001b[38;5;124m'\u001b[39m, \u001b[38;5;124m'\u001b[39m\u001b[38;5;124mdata\u001b[39m\u001b[38;5;124m'\u001b[39m, \u001b[38;5;124m'\u001b[39m\u001b[38;5;124mhasPattern\u001b[39m\u001b[38;5;124m'\u001b[39m, \u001b[38;5;124m'\u001b[39m\u001b[38;5;124mtitle\u001b[39m\u001b[38;5;124m'\u001b[39m, \u001b[38;5;124m'\u001b[39m\u001b[38;5;124murl\u001b[39m\u001b[38;5;124m'\u001b[39m, \u001b[38;5;124m'\u001b[39m\u001b[38;5;124muser\u001b[39m\u001b[38;5;124m'\u001b[39m, \u001b[38;5;124m'\u001b[39m\u001b[38;5;124mid\u001b[39m\u001b[38;5;124m'\u001b[39m, \u001b[38;5;124m'\u001b[39m\u001b[38;5;124mts\u001b[39m\u001b[38;5;124m'\u001b[39m, \u001b[38;5;124m'\u001b[39m\u001b[38;5;124mbody\u001b[39m\u001b[38;5;124m'\u001b[39m, \u001b[38;5;124m'\u001b[39m\u001b[38;5;124mhtml\u001b[39m\u001b[38;5;124m'\u001b[39m]\n",
      "File \u001b[0;32m~/.pyenv/versions/3.9.1/lib/python3.9/site-packages/pandas/core/generic.py:5588\u001b[0m, in \u001b[0;36mNDFrame.__setattr__\u001b[0;34m(self, name, value)\u001b[0m\n\u001b[1;32m   5586\u001b[0m \u001b[38;5;28;01mtry\u001b[39;00m:\n\u001b[1;32m   5587\u001b[0m     \u001b[38;5;28mobject\u001b[39m\u001b[38;5;241m.\u001b[39m\u001b[38;5;21m__getattribute__\u001b[39m(\u001b[38;5;28mself\u001b[39m, name)\n\u001b[0;32m-> 5588\u001b[0m     \u001b[38;5;28;01mreturn\u001b[39;00m \u001b[38;5;28;43mobject\u001b[39;49m\u001b[38;5;241;43m.\u001b[39;49m\u001b[38;5;21;43m__setattr__\u001b[39;49m\u001b[43m(\u001b[49m\u001b[38;5;28;43mself\u001b[39;49m\u001b[43m,\u001b[49m\u001b[43m \u001b[49m\u001b[43mname\u001b[49m\u001b[43m,\u001b[49m\u001b[43m \u001b[49m\u001b[43mvalue\u001b[49m\u001b[43m)\u001b[49m\n\u001b[1;32m   5589\u001b[0m \u001b[38;5;28;01mexcept\u001b[39;00m \u001b[38;5;167;01mAttributeError\u001b[39;00m:\n\u001b[1;32m   5590\u001b[0m     \u001b[38;5;28;01mpass\u001b[39;00m\n",
      "File \u001b[0;32m~/.pyenv/versions/3.9.1/lib/python3.9/site-packages/pandas/_libs/properties.pyx:70\u001b[0m, in \u001b[0;36mpandas._libs.properties.AxisProperty.__set__\u001b[0;34m()\u001b[0m\n",
      "File \u001b[0;32m~/.pyenv/versions/3.9.1/lib/python3.9/site-packages/pandas/core/generic.py:769\u001b[0m, in \u001b[0;36mNDFrame._set_axis\u001b[0;34m(self, axis, labels)\u001b[0m\n\u001b[1;32m    767\u001b[0m \u001b[38;5;28;01mdef\u001b[39;00m \u001b[38;5;21m_set_axis\u001b[39m(\u001b[38;5;28mself\u001b[39m, axis: \u001b[38;5;28mint\u001b[39m, labels: Index) \u001b[38;5;241m-\u001b[39m\u001b[38;5;241m>\u001b[39m \u001b[38;5;28;01mNone\u001b[39;00m:\n\u001b[1;32m    768\u001b[0m     labels \u001b[38;5;241m=\u001b[39m ensure_index(labels)\n\u001b[0;32m--> 769\u001b[0m     \u001b[38;5;28;43mself\u001b[39;49m\u001b[38;5;241;43m.\u001b[39;49m\u001b[43m_mgr\u001b[49m\u001b[38;5;241;43m.\u001b[39;49m\u001b[43mset_axis\u001b[49m\u001b[43m(\u001b[49m\u001b[43maxis\u001b[49m\u001b[43m,\u001b[49m\u001b[43m \u001b[49m\u001b[43mlabels\u001b[49m\u001b[43m)\u001b[49m\n\u001b[1;32m    770\u001b[0m     \u001b[38;5;28mself\u001b[39m\u001b[38;5;241m.\u001b[39m_clear_item_cache()\n",
      "File \u001b[0;32m~/.pyenv/versions/3.9.1/lib/python3.9/site-packages/pandas/core/internals/managers.py:214\u001b[0m, in \u001b[0;36mBaseBlockManager.set_axis\u001b[0;34m(self, axis, new_labels)\u001b[0m\n\u001b[1;32m    212\u001b[0m \u001b[38;5;28;01mdef\u001b[39;00m \u001b[38;5;21mset_axis\u001b[39m(\u001b[38;5;28mself\u001b[39m, axis: \u001b[38;5;28mint\u001b[39m, new_labels: Index) \u001b[38;5;241m-\u001b[39m\u001b[38;5;241m>\u001b[39m \u001b[38;5;28;01mNone\u001b[39;00m:\n\u001b[1;32m    213\u001b[0m     \u001b[38;5;66;03m# Caller is responsible for ensuring we have an Index object.\u001b[39;00m\n\u001b[0;32m--> 214\u001b[0m     \u001b[38;5;28;43mself\u001b[39;49m\u001b[38;5;241;43m.\u001b[39;49m\u001b[43m_validate_set_axis\u001b[49m\u001b[43m(\u001b[49m\u001b[43maxis\u001b[49m\u001b[43m,\u001b[49m\u001b[43m \u001b[49m\u001b[43mnew_labels\u001b[49m\u001b[43m)\u001b[49m\n\u001b[1;32m    215\u001b[0m     \u001b[38;5;28mself\u001b[39m\u001b[38;5;241m.\u001b[39maxes[axis] \u001b[38;5;241m=\u001b[39m new_labels\n",
      "File \u001b[0;32m~/.pyenv/versions/3.9.1/lib/python3.9/site-packages/pandas/core/internals/base.py:69\u001b[0m, in \u001b[0;36mDataManager._validate_set_axis\u001b[0;34m(self, axis, new_labels)\u001b[0m\n\u001b[1;32m     66\u001b[0m     \u001b[38;5;28;01mpass\u001b[39;00m\n\u001b[1;32m     68\u001b[0m \u001b[38;5;28;01melif\u001b[39;00m new_len \u001b[38;5;241m!=\u001b[39m old_len:\n\u001b[0;32m---> 69\u001b[0m     \u001b[38;5;28;01mraise\u001b[39;00m \u001b[38;5;167;01mValueError\u001b[39;00m(\n\u001b[1;32m     70\u001b[0m         \u001b[38;5;124mf\u001b[39m\u001b[38;5;124m\"\u001b[39m\u001b[38;5;124mLength mismatch: Expected axis has \u001b[39m\u001b[38;5;132;01m{\u001b[39;00mold_len\u001b[38;5;132;01m}\u001b[39;00m\u001b[38;5;124m elements, new \u001b[39m\u001b[38;5;124m\"\u001b[39m\n\u001b[1;32m     71\u001b[0m         \u001b[38;5;124mf\u001b[39m\u001b[38;5;124m\"\u001b[39m\u001b[38;5;124mvalues have \u001b[39m\u001b[38;5;132;01m{\u001b[39;00mnew_len\u001b[38;5;132;01m}\u001b[39;00m\u001b[38;5;124m elements\u001b[39m\u001b[38;5;124m\"\u001b[39m\n\u001b[1;32m     72\u001b[0m     )\n",
      "\u001b[0;31mValueError\u001b[0m: Length mismatch: Expected axis has 18 elements, new values have 10 elements"
     ]
    }
   ],
   "source": [
    "df4 = pd.concat(\n",
    "    [\n",
    "        df3\n",
    "        , df3.apply(lambda row: \"\"\"\n",
    "<tr style=\"color:white;background-color:#404040\">\n",
    "<td>{}</td>\n",
    "<td><a style=\"color:#d9d9d9\" href=\"{}\">{}</a></td>\n",
    "<td><a style=\"color:#d9d9d9\" href=\"https://old.reddit.com/message/compose/?to={}\">/u/{}</a></td>\n",
    "<td><a style=\"color:#d9d9d9\" href=\"https://old.reddit.com/user/{}\">/u/{}</a></td>\n",
    "</tr>\n",
    "<tr>\n",
    "<td colspan=\"4\">\n",
    "{}\n",
    "</td>\n",
    "</tr>\n",
    "        \"\"\".format(\n",
    "            row['ts']\n",
    "            , row['url']\n",
    "            , row['title'] if len(row['title']) <= 25 else row['title'][0:50] + '...'\n",
    "            , row['user']\n",
    "            , row['user']\n",
    "            , row['user']\n",
    "            , row['user']\n",
    "            , re.sub(\"[Gg][Mm][Kk]\",'<mark style=\"background-color: orange;\">GMK</mark>',html.unescape(row['body']))\n",
    "        ), axis = 1\n",
    "        )\n",
    "    ]\n",
    "    , axis=1, join='inner'\n",
    ")\n",
    "\n",
    "df4.columns = ['kind', 'data', 'hasPattern', 'title', 'url', 'user', 'id', 'ts', 'body', 'html']\n",
    "#df4"
   ]
  },
  {
   "cell_type": "code",
   "execution_count": null,
   "id": "8b9ecbff",
   "metadata": {},
   "outputs": [],
   "source": [
    "html_body = '\\n'.join(df4['html'].tolist())"
   ]
  },
  {
   "cell_type": "code",
   "execution_count": null,
   "id": "52ea43ac",
   "metadata": {},
   "outputs": [],
   "source": [
    "#id_list =\n",
    "#.tolist()\n",
    "df4['id'].to_csv('rmm_id.csv', index=False)"
   ]
  },
  {
   "cell_type": "markdown",
   "id": "45f2adf0",
   "metadata": {},
   "source": [
    "## HTML Build and write out"
   ]
  },
  {
   "cell_type": "code",
   "execution_count": null,
   "id": "cfb53f3f",
   "metadata": {},
   "outputs": [],
   "source": [
    "html_string=\"\"\"\n",
    "<table>\n",
    "  <tr>\n",
    "    <th align=\"left\">Posted</th>\n",
    "    <th align=\"left\">Title</th>\n",
    "    <th align=\"left\">PM User</th>\n",
    "    <th align=\"left\">User Profile</th>\n",
    "  </tr>\n",
    "{}\n",
    "</table>\n",
    "\"\"\".format(\n",
    "    html_body\n",
    ")"
   ]
  },
  {
   "cell_type": "code",
   "execution_count": null,
   "id": "f43f9d1b",
   "metadata": {},
   "outputs": [],
   "source": [
    "# print(html_string)"
   ]
  },
  {
   "cell_type": "code",
   "execution_count": null,
   "id": "5b02b585",
   "metadata": {},
   "outputs": [],
   "source": [
    "f = open(\"mutt_test_rmm.html\", \"w\")\n",
    "f.write(html_string)\n",
    "#f.write(df3.apply(lambda row: re.sub(\"[Gg][Mm][Kk]\", '<mark style=\"background-color: orange;\">GMK</mark>', html.unescape(row['body'])), axis = 1)[2])\n",
    "\n",
    "f.close()\n",
    "\n",
    "# mutt -s \"Get your raspberry pi\" cris.manlangit@gmail.com < test_body.html"
   ]
  }
 ],
 "metadata": {
  "kernelspec": {
   "display_name": "Python 3 (ipykernel)",
   "language": "python",
   "name": "python3"
  },
  "language_info": {
   "codemirror_mode": {
    "name": "ipython",
    "version": 3
   },
   "file_extension": ".py",
   "mimetype": "text/x-python",
   "name": "python",
   "nbconvert_exporter": "python",
   "pygments_lexer": "ipython3",
   "version": "3.9.1"
  }
 },
 "nbformat": 4,
 "nbformat_minor": 5
}
